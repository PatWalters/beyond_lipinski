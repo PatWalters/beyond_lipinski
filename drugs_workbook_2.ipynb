{
 "cells": [
  {
   "cell_type": "code",
   "execution_count": 298,
   "id": "ca1ca62c-056d-483d-b93c-cece8d2a37a4",
   "metadata": {},
   "outputs": [],
   "source": [
    "import pandas as pd\n",
    "from rdkit import Chem\n",
    "from rdkit.Chem.MolStandardize import rdMolStandardize\n",
    "from rdkit import DataStructs\n",
    "import useful_rdkit_utils as uru\n",
    "from tqdm.auto import tqdm\n",
    "import chembl_downloader\n",
    "import mols2grid"
   ]
  },
  {
   "cell_type": "code",
   "execution_count": 218,
   "id": "dea93f9f-591c-435a-ad79-04c204162247",
   "metadata": {},
   "outputs": [],
   "source": [
    "def standardize(mol):\n",
    "    # follows the steps in\n",
    "    # https://github.com/greglandrum/RSC_OpenScience_Standardization_202104/blob/main/MolStandardize%20pieces.ipynb\n",
    "    # as described **excellently** (by Greg) in\n",
    "    # https://www.youtube.com/watch?v=eWTApNX8dJQ\n",
    "     \n",
    "    # removeHs, disconnect metal atoms, normalize the molecule, reionize the molecule\n",
    "    clean_mol = rdMolStandardize.Cleanup(mol) \n",
    "     \n",
    "    # if many fragments, get the \"parent\" (the actual mol we are interested in) \n",
    "    parent_clean_mol = rdMolStandardize.FragmentParent(clean_mol)\n",
    "         \n",
    "    # try to neutralize molecule\n",
    "    uncharger = rdMolStandardize.Uncharger() # annoying, but necessary as no convenience method exists\n",
    "    uncharged_parent_clean_mol = uncharger.uncharge(parent_clean_mol)\n",
    "     \n",
    "    # note that no attempt is made at reionization at this step\n",
    "    # nor at ionization at some pH (rdkit has no pKa caculator)\n",
    "    # the main aim to to represent all molecules from different sources\n",
    "    # in a (single) standard way, for use in ML, catalogue, etc.\n",
    "     \n",
    "    te = rdMolStandardize.TautomerEnumerator() # idem\n",
    "    taut_uncharged_parent_clean_mol = te.Canonicalize(uncharged_parent_clean_mol)\n",
    "     \n",
    "    return taut_uncharged_parent_clean_mol\n",
    "\n",
    "def add_analysis_columns(df,smiles_col,year_col,name_col):\n",
    "    # add an RDKit molecule column\n",
    "    df['mol'] = df[smiles_col].progress_apply(Chem.MolFromSmiles)\n",
    "    # standardize the molecule\n",
    "    df['std_mol'] = df.mol.progress_apply(standardize)\n",
    "    # generate a standard smiles, useful for duplicate removal\n",
    "    df['std_smiles'] = df.std_mol.progress_apply(Chem.MolToSmiles)\n",
    "    # add a fingerprint column\n",
    "    df['fp'] = df.std_mol.progress_apply(uru.mol2morgan_fp)\n",
    "    # add a year with a standard name\n",
    "    df['year'] = df[year_col]\n",
    "    # clean the name and create a column\n",
    "    df['drug_name'] = [x.strip().upper() for x in df[name_col]]"
   ]
  },
  {
   "cell_type": "code",
   "execution_count": 219,
   "id": "4949ddda-c9d0-482f-aace-3e97b6a002d8",
   "metadata": {},
   "outputs": [],
   "source": [
    "tqdm.pandas()"
   ]
  },
  {
   "cell_type": "code",
   "execution_count": 220,
   "id": "4493ef68-6b3c-41d0-a987-9090e9cb6309",
   "metadata": {},
   "outputs": [
    {
     "data": {
      "text/plain": [
       "(2695, 38)"
      ]
     },
     "execution_count": 220,
     "metadata": {},
     "output_type": "execute_result"
    }
   ],
   "source": [
    "chembl_df.shape"
   ]
  },
  {
   "cell_type": "code",
   "execution_count": 221,
   "id": "165a896f-a949-4088-a804-60ad4aec2b20",
   "metadata": {},
   "outputs": [
    {
     "data": {
      "application/vnd.jupyter.widget-view+json": {
       "model_id": "09f7e39b024f43a0b63ee503dfb62a67",
       "version_major": 2,
       "version_minor": 0
      },
      "text/plain": [
       "  0%|          | 0/2695 [00:00<?, ?it/s]"
      ]
     },
     "metadata": {},
     "output_type": "display_data"
    },
    {
     "data": {
      "application/vnd.jupyter.widget-view+json": {
       "model_id": "2d08946daa0a418794eb5e99877643b4",
       "version_major": 2,
       "version_minor": 0
      },
      "text/plain": [
       "  0%|          | 0/2695 [00:00<?, ?it/s]"
      ]
     },
     "metadata": {},
     "output_type": "display_data"
    },
    {
     "data": {
      "application/vnd.jupyter.widget-view+json": {
       "model_id": "f3c1bb7f61de443eb5fc68b10d4c8f66",
       "version_major": 2,
       "version_minor": 0
      },
      "text/plain": [
       "  0%|          | 0/2695 [00:00<?, ?it/s]"
      ]
     },
     "metadata": {},
     "output_type": "display_data"
    },
    {
     "data": {
      "application/vnd.jupyter.widget-view+json": {
       "model_id": "dd51026ca2954e9697372f43f82d9201",
       "version_major": 2,
       "version_minor": 0
      },
      "text/plain": [
       "  0%|          | 0/2695 [00:00<?, ?it/s]"
      ]
     },
     "metadata": {},
     "output_type": "display_data"
    }
   ],
   "source": [
    "chembl_df = pd.read_csv(\"chembl_drugs_usan_v2.csv\")\n",
    "add_analysis_columns(chembl_df,\"canonical_smiles\",\"first_approval\",\"pref_name\")"
   ]
  },
  {
   "cell_type": "code",
   "execution_count": 222,
   "id": "27f05fad-9003-4e55-a3f6-6435f92f671b",
   "metadata": {},
   "outputs": [
    {
     "data": {
      "application/vnd.jupyter.widget-view+json": {
       "model_id": "f7ec1dd13312459f92d06c353a79818a",
       "version_major": 2,
       "version_minor": 0
      },
      "text/plain": [
       "  0%|          | 0/117 [00:00<?, ?it/s]"
      ]
     },
     "metadata": {},
     "output_type": "display_data"
    },
    {
     "data": {
      "application/vnd.jupyter.widget-view+json": {
       "model_id": "2012a251e34844d2af074f1bea2df305",
       "version_major": 2,
       "version_minor": 0
      },
      "text/plain": [
       "  0%|          | 0/117 [00:00<?, ?it/s]"
      ]
     },
     "metadata": {},
     "output_type": "display_data"
    },
    {
     "data": {
      "application/vnd.jupyter.widget-view+json": {
       "model_id": "410ab2f2db314093b36a5f5594da62b3",
       "version_major": 2,
       "version_minor": 0
      },
      "text/plain": [
       "  0%|          | 0/117 [00:00<?, ?it/s]"
      ]
     },
     "metadata": {},
     "output_type": "display_data"
    },
    {
     "data": {
      "application/vnd.jupyter.widget-view+json": {
       "model_id": "3695863a67634cc4a7fc700fe192b394",
       "version_major": 2,
       "version_minor": 0
      },
      "text/plain": [
       "  0%|          | 0/117 [00:00<?, ?it/s]"
      ]
     },
     "metadata": {},
     "output_type": "display_data"
    }
   ],
   "source": [
    "paper_df = pd.read_csv(\"41570_2022_451_MOESM2_ESM.csv\")\n",
    "add_analysis_columns(paper_df,\"SMILES\",\"APPROVAL_YEAR\",\"NAME\")"
   ]
  },
  {
   "cell_type": "code",
   "execution_count": 223,
   "id": "b77c1ead-d283-4527-9164-6354e78cc6f1",
   "metadata": {},
   "outputs": [
    {
     "data": {
      "text/plain": [
       "(2695, 1770)"
      ]
     },
     "execution_count": 223,
     "metadata": {},
     "output_type": "execute_result"
    }
   ],
   "source": [
    "len(chembl_df),len(chembl_df.drop_duplicates(subset=[\"std_smiles\"]))"
   ]
  },
  {
   "cell_type": "code",
   "execution_count": 224,
   "id": "cd597c55-90f9-4856-8c8b-1ae0284ef743",
   "metadata": {},
   "outputs": [
    {
     "data": {
      "text/plain": [
       "(117, 117)"
      ]
     },
     "execution_count": 224,
     "metadata": {},
     "output_type": "execute_result"
    }
   ],
   "source": [
    "len(paper_df),len(paper_df.drop_duplicates(subset=[\"std_smiles\"]))"
   ]
  },
  {
   "cell_type": "code",
   "execution_count": 225,
   "id": "4472d5cc-0d39-4ce4-be17-d1b9eb785b24",
   "metadata": {},
   "outputs": [
    {
     "data": {
      "text/plain": [
       "(1770, 38)"
      ]
     },
     "execution_count": 225,
     "metadata": {},
     "output_type": "execute_result"
    }
   ],
   "source": [
    "chembl_df_unique = chembl_df.drop_duplicates(subset=[\"std_smiles\"]).copy()\n",
    "chembl_df_unique.shape"
   ]
  },
  {
   "cell_type": "code",
   "execution_count": 226,
   "id": "c2c72c31-4bd3-45e9-8cd7-be1bd7d9c660",
   "metadata": {},
   "outputs": [
    {
     "name": "stdout",
     "output_type": "stream",
     "text": [
      "2018 40 27\n",
      "2019 37 27\n",
      "2020 44 27\n",
      "2021 31 28\n",
      "2022 0 8\n"
     ]
    }
   ],
   "source": [
    "for year in range(2018,2023):\n",
    "    num_chembl = len(chembl_df_unique.query(\"year == @year\"))\n",
    "    num_paper = len(paper_df.query(\"year == @year\"))\n",
    "    print(year,num_chembl,num_paper)                     "
   ]
  },
  {
   "cell_type": "code",
   "execution_count": 294,
   "id": "ce5a5e41-12c9-496e-8ec9-44f6f1d55fa3",
   "metadata": {},
   "outputs": [],
   "source": [
    "def find_differences(df_query, df_ref,year):\n",
    "    miss_list = []\n",
    "    query_yr = df_query.query(\"year == @year\")\n",
    "    ref_yr = df_ref.query(\"year == @year\")\n",
    "    for idx,row in query_yr.iterrows():\n",
    "        sim_vals = DataStructs.BulkTanimotoSimilarity(row.fp,ref_yr.fp.values)\n",
    "        if row.drug_name == \"DAROLUTAMIDE\":\n",
    "            print(row.std_smiles)\n",
    "            pd.DataFrame(zip(ref_yr.drug_name.values,sim_vals,ref_yr.std_smiles)).to_csv(\"foo.csv\")\n",
    "        max_sim = max(sim_vals)\n",
    "        if max_sim < 1.0:\n",
    "            miss_list.append([max_sim,row])\n",
    "    return miss_list"
   ]
  },
  {
   "cell_type": "code",
   "execution_count": 348,
   "id": "d804518e-39ed-401b-a06f-17282ab2f330",
   "metadata": {},
   "outputs": [
    {
     "data": {
      "text/html": [
       "<div>\n",
       "<style scoped>\n",
       "    .dataframe tbody tr th:only-of-type {\n",
       "        vertical-align: middle;\n",
       "    }\n",
       "\n",
       "    .dataframe tbody tr th {\n",
       "        vertical-align: top;\n",
       "    }\n",
       "\n",
       "    .dataframe thead th {\n",
       "        text-align: right;\n",
       "    }\n",
       "</style>\n",
       "<table border=\"1\" class=\"dataframe\">\n",
       "  <thead>\n",
       "    <tr style=\"text-align: right;\">\n",
       "      <th></th>\n",
       "      <th>sim</th>\n",
       "      <th>smiles</th>\n",
       "      <th>name</th>\n",
       "    </tr>\n",
       "  </thead>\n",
       "  <tbody>\n",
       "    <tr>\n",
       "      <th>0</th>\n",
       "      <td>0.214286</td>\n",
       "      <td>O=C(Cn1ccnc1[N+](=O)[O-])NCc1ccccc1</td>\n",
       "      <td>BENZNIDAZOLE</td>\n",
       "    </tr>\n",
       "  </tbody>\n",
       "</table>\n",
       "</div>"
      ],
      "text/plain": [
       "        sim                               smiles          name\n",
       "0  0.214286  O=C(Cn1ccnc1[N+](=O)[O-])NCc1ccccc1  BENZNIDAZOLE"
      ]
     },
     "execution_count": 348,
     "metadata": {},
     "output_type": "execute_result"
    }
   ],
   "source": [
    "drug_diff_list = find_differences(paper_df,chembl_df_unique,2018)\n",
    "drug_diff_df = pd.DataFrame([[a,b.std_smiles,b.drug_name] for (a,b) in drug_diff_list],columns=['sim','smiles','name'])\n",
    "drug_diff_df"
   ]
  },
  {
   "cell_type": "code",
   "execution_count": 330,
   "id": "88635007-a20e-4a42-935c-e4dff2e2c5ea",
   "metadata": {},
   "outputs": [
    {
     "data": {
      "text/plain": [
       "0.75"
      ]
     },
     "execution_count": 330,
     "metadata": {},
     "output_type": "execute_result"
    }
   ],
   "source": [
    "a = \"CC(Cn1ccc(-c2ccc(C#N)c(Cl)c2)n1)NC(=O)c1cc(C(C)O)[nH]n1\"\n",
    "b = \"CC(O)c1cc(C(=O)N[C@@H](C)Cn2ccc(-c3ccc(C#N)c(Cl)c3)n2)[nH]n1\"\n",
    "fp_a = uru.smi2morgan_fp(a)\n",
    "fp_b = uru.smi2morgan_fp(b)\n",
    "DataStructs.TanimotoSimilarity(fp_a,fp_b)"
   ]
  },
  {
   "cell_type": "code",
   "execution_count": 343,
   "id": "25eed6fa-5e96-43d5-99fd-3cb5eab9d971",
   "metadata": {},
   "outputs": [
    {
     "name": "stdout",
     "output_type": "stream",
     "text": [
      "CC(Cn1ccc(-c2ccc(C#N)c(Cl)c2)n1)NC(=O)c1cc(C(C)O)[nH]n1\n",
      "CC(O)c1cc(C(=O)N[C@@H](C)Cn2ccc(-c3ccc(C#N)c(Cl)c3)n2)[nH]n1\n"
     ]
    },
    {
     "data": {
      "text/plain": [
       "0.75"
      ]
     },
     "execution_count": 343,
     "metadata": {},
     "output_type": "execute_result"
    }
   ],
   "source": [
    "mol_a = Chem.MolFromSmiles(a)\n",
    "mol_b = Chem.MolFromSmiles(b)\n",
    "#Chem.RemoveStereochemistry(mol_a)\n",
    "#Chem.RemoveStereochemistry(mol_b)\n",
    "print(Chem.MolToSmiles(mol_a))\n",
    "print(Chem.MolToSmiles(mol_b))\n",
    "fp_a = AllChem.GetMorganFingerprintAsBitVect(mol_a,2)\n",
    "fp_b = AllChem.GetMorganFingerprintAsBitVect(mol_b,2)\n",
    "DataStructs.TanimotoSimilarity(fp_a,fp_b)"
   ]
  },
  {
   "cell_type": "code",
   "execution_count": 346,
   "id": "8889aefe-4d0b-42fe-a505-d68aa8eb6647",
   "metadata": {},
   "outputs": [
    {
     "data": {
      "image/png": "[encoded data removed]",
      "text/plain": [
       "<rdkit.Chem.rdchem.Mol at 0x2b17bbc10>"
      ]
     },
     "execution_count": 346,
     "metadata": {},
     "output_type": "execute_result"
    }
   ],
   "source": [
    "standardize(mol_a)"
   ]
  },
  {
   "cell_type": "code",
   "execution_count": 347,
   "id": "3d8e363b-c4ca-4bc5-aa17-b247ab550ee0",
   "metadata": {},
   "outputs": [
    {
     "data": {
      "image/png": "[encoded data removed]",
      "text/plain": [
       "<rdkit.Chem.rdchem.Mol at 0x2b17bbac0>"
      ]
     },
     "execution_count": 347,
     "metadata": {},
     "output_type": "execute_result"
    }
   ],
   "source": [
    "standardize(mol_b)"
   ]
  },
  {
   "cell_type": "code",
   "execution_count": 356,
   "id": "8b2d54d1-fde6-43f3-b4c8-55805ded6577",
   "metadata": {},
   "outputs": [
    {
     "data": {
      "text/plain": [
       "(1, 2)"
      ]
     },
     "execution_count": 356,
     "metadata": {},
     "output_type": "execute_result"
    }
   ],
   "source": [
    "tuple([1,2])"
   ]
  },
  {
   "cell_type": "code",
   "execution_count": 357,
   "id": "d7baf2ff-249f-4fdd-9f70-4fa95ad620ba",
   "metadata": {},
   "outputs": [
    {
     "data": {
      "text/html": [
       "<div>\n",
       "<style scoped>\n",
       "    .dataframe tbody tr th:only-of-type {\n",
       "        vertical-align: middle;\n",
       "    }\n",
       "\n",
       "    .dataframe tbody tr th {\n",
       "        vertical-align: top;\n",
       "    }\n",
       "\n",
       "    .dataframe thead th {\n",
       "        text-align: right;\n",
       "    }\n",
       "</style>\n",
       "<table border=\"1\" class=\"dataframe\">\n",
       "  <thead>\n",
       "    <tr style=\"text-align: right;\">\n",
       "      <th></th>\n",
       "      <th>pref_name</th>\n",
       "      <th>chembl_id</th>\n",
       "      <th>first_approval</th>\n",
       "      <th>sim</th>\n",
       "      <th>smiles</th>\n",
       "      <th>name</th>\n",
       "    </tr>\n",
       "  </thead>\n",
       "  <tbody>\n",
       "    <tr>\n",
       "      <th>0</th>\n",
       "      <td>BENZNIDAZOLE</td>\n",
       "      <td>CHEMBL110</td>\n",
       "      <td>2017</td>\n",
       "      <td>0.214286</td>\n",
       "      <td>O=C(Cn1ccnc1[N+](=O)[O-])NCc1ccccc1</td>\n",
       "      <td>BENZNIDAZOLE</td>\n",
       "    </tr>\n",
       "  </tbody>\n",
       "</table>\n",
       "</div>"
      ],
      "text/plain": [
       "      pref_name  chembl_id  first_approval       sim  \\\n",
       "0  BENZNIDAZOLE  CHEMBL110            2017  0.214286   \n",
       "\n",
       "                                smiles          name  \n",
       "0  O=C(Cn1ccnc1[N+](=O)[O-])NCc1ccccc1  BENZNIDAZOLE  "
      ]
     },
     "execution_count": 357,
     "metadata": {},
     "output_type": "execute_result"
    }
   ],
   "source": [
    "query_list = str(drug_diff_df.name.values).replace(\"[\",\"(\").replace(\"]\",\")\")\n",
    "sql = f\"select pref_name,chembl_id,first_approval from molecule_dictionary where pref_name in {query_list}\"\n",
    "chembl_missing_df = chembl_downloader.query(sql)\n",
    "merge_df = chembl_missing_df.merge(drug_diff_df,left_on=\"pref_name\",right_on=\"name\")\n",
    "merge_df"
   ]
  },
  {
   "cell_type": "code",
   "execution_count": 270,
   "id": "0764263c-69ad-438b-9467-64d48ed58e43",
   "metadata": {},
   "outputs": [],
   "source": [
    "smi_1 = chembl_df.query(\"chembl_id == 'CHEMBL4297185'\").canonical_smiles.values[0]\n",
    "smi_2 = paper_df.query(q).std_smiles.values[0]"
   ]
  },
  {
   "cell_type": "code",
   "execution_count": 277,
   "id": "cf3b5266-bca3-46ed-b856-c025bf0160cd",
   "metadata": {},
   "outputs": [
    {
     "data": {
      "image/png": "[encoded data removed]",
      "text/plain": [
       "<rdkit.Chem.rdchem.Mol at 0x2b23514a0>"
      ]
     },
     "execution_count": 277,
     "metadata": {},
     "output_type": "execute_result"
    }
   ],
   "source": [
    "m_1 = Chem.MolFromSmiles(smi_1)\n",
    "fp_1 = uru.mol2morgan_fp(m_1)\n",
    "m_1"
   ]
  },
  {
   "cell_type": "code",
   "execution_count": 278,
   "id": "8a21d973-7385-4d23-bf9d-9883b9263a32",
   "metadata": {},
   "outputs": [
    {
     "data": {
      "image/png": "[encoded data removed]",
      "text/plain": [
       "<rdkit.Chem.rdchem.Mol at 0x2b2351740>"
      ]
     },
     "execution_count": 278,
     "metadata": {},
     "output_type": "execute_result"
    }
   ],
   "source": [
    "m_2 = Chem.MolFromSmiles(smi_2)\n",
    "fp_2 = uru.mol2morgan_fp(m_2)\n",
    "m_2"
   ]
  },
  {
   "cell_type": "code",
   "execution_count": 276,
   "id": "c1e6ec78-070c-4858-9a7b-f86164933a95",
   "metadata": {},
   "outputs": [
    {
     "data": {
      "text/plain": [
       "1.0"
      ]
     },
     "execution_count": 276,
     "metadata": {},
     "output_type": "execute_result"
    }
   ],
   "source": [
    "DataStructs.TanimotoSimilarity(fp_1,fp_2)"
   ]
  },
  {
   "cell_type": "code",
   "execution_count": 250,
   "id": "00a90288-b6ff-4258-ad4d-23c372469d47",
   "metadata": {},
   "outputs": [
    {
     "ename": "ArgumentError",
     "evalue": "Python argument types in\n    rdkit.Chem.MolStandardize.rdMolStandardize.Cleanup(str)\ndid not match C++ signature:\n    Cleanup(RDKit::ROMol const* mol, boost::python::api::object params=None)",
     "output_type": "error",
     "traceback": [
      "\u001b[0;31m---------------------------------------------------------------------------\u001b[0m",
      "\u001b[0;31mArgumentError\u001b[0m                             Traceback (most recent call last)",
      "Cell \u001b[0;32mIn[250], line 4\u001b[0m\n\u001b[1;32m      2\u001b[0m chembl_df_2018 \u001b[38;5;241m=\u001b[39m chembl_df\u001b[38;5;241m.\u001b[39mquery(\u001b[38;5;124m\"\u001b[39m\u001b[38;5;124mfirst_approval == 2018 and oral == 1\u001b[39m\u001b[38;5;124m\"\u001b[39m)\u001b[38;5;241m.\u001b[39mcopy()\n\u001b[1;32m      3\u001b[0m uru\u001b[38;5;241m.\u001b[39mrd_shut_the_hell_up()\n\u001b[0;32m----> 4\u001b[0m chembl_df_2018[\u001b[38;5;124m'\u001b[39m\u001b[38;5;124mstandard_smiles\u001b[39m\u001b[38;5;124m'\u001b[39m] \u001b[38;5;241m=\u001b[39m \u001b[43mchembl_df_2018\u001b[49m\u001b[38;5;241;43m.\u001b[39;49m\u001b[43mcanonical_smiles\u001b[49m\u001b[38;5;241;43m.\u001b[39;49m\u001b[43mapply\u001b[49m\u001b[43m(\u001b[49m\u001b[43mget_standard_smiles\u001b[49m\u001b[43m)\u001b[49m\n\u001b[1;32m      5\u001b[0m chembl_df_2018[\u001b[38;5;124m'\u001b[39m\u001b[38;5;124mfp\u001b[39m\u001b[38;5;124m'\u001b[39m] \u001b[38;5;241m=\u001b[39m chembl_df_2018\u001b[38;5;241m.\u001b[39mstandard_smiles\u001b[38;5;241m.\u001b[39mapply(uru\u001b[38;5;241m.\u001b[39msmi2morgan_fp)\n",
      "File \u001b[0;32m~/miniconda3/envs/rdkit_2022_12/lib/python3.8/site-packages/pandas/core/series.py:4771\u001b[0m, in \u001b[0;36mSeries.apply\u001b[0;34m(self, func, convert_dtype, args, **kwargs)\u001b[0m\n\u001b[1;32m   4661\u001b[0m \u001b[38;5;28;01mdef\u001b[39;00m \u001b[38;5;21mapply\u001b[39m(\n\u001b[1;32m   4662\u001b[0m     \u001b[38;5;28mself\u001b[39m,\n\u001b[1;32m   4663\u001b[0m     func: AggFuncType,\n\u001b[0;32m   (...)\u001b[0m\n\u001b[1;32m   4666\u001b[0m     \u001b[38;5;241m*\u001b[39m\u001b[38;5;241m*\u001b[39mkwargs,\n\u001b[1;32m   4667\u001b[0m ) \u001b[38;5;241m-\u001b[39m\u001b[38;5;241m>\u001b[39m DataFrame \u001b[38;5;241m|\u001b[39m Series:\n\u001b[1;32m   4668\u001b[0m     \u001b[38;5;124;03m\"\"\"\u001b[39;00m\n\u001b[1;32m   4669\u001b[0m \u001b[38;5;124;03m    Invoke function on values of Series.\u001b[39;00m\n\u001b[1;32m   4670\u001b[0m \n\u001b[0;32m   (...)\u001b[0m\n\u001b[1;32m   4769\u001b[0m \u001b[38;5;124;03m    dtype: float64\u001b[39;00m\n\u001b[1;32m   4770\u001b[0m \u001b[38;5;124;03m    \"\"\"\u001b[39;00m\n\u001b[0;32m-> 4771\u001b[0m     \u001b[38;5;28;01mreturn\u001b[39;00m \u001b[43mSeriesApply\u001b[49m\u001b[43m(\u001b[49m\u001b[38;5;28;43mself\u001b[39;49m\u001b[43m,\u001b[49m\u001b[43m \u001b[49m\u001b[43mfunc\u001b[49m\u001b[43m,\u001b[49m\u001b[43m \u001b[49m\u001b[43mconvert_dtype\u001b[49m\u001b[43m,\u001b[49m\u001b[43m \u001b[49m\u001b[43margs\u001b[49m\u001b[43m,\u001b[49m\u001b[43m \u001b[49m\u001b[43mkwargs\u001b[49m\u001b[43m)\u001b[49m\u001b[38;5;241;43m.\u001b[39;49m\u001b[43mapply\u001b[49m\u001b[43m(\u001b[49m\u001b[43m)\u001b[49m\n",
      "File \u001b[0;32m~/miniconda3/envs/rdkit_2022_12/lib/python3.8/site-packages/pandas/core/apply.py:1105\u001b[0m, in \u001b[0;36mSeriesApply.apply\u001b[0;34m(self)\u001b[0m\n\u001b[1;32m   1102\u001b[0m     \u001b[38;5;28;01mreturn\u001b[39;00m \u001b[38;5;28mself\u001b[39m\u001b[38;5;241m.\u001b[39mapply_str()\n\u001b[1;32m   1104\u001b[0m \u001b[38;5;66;03m# self.f is Callable\u001b[39;00m\n\u001b[0;32m-> 1105\u001b[0m \u001b[38;5;28;01mreturn\u001b[39;00m \u001b[38;5;28;43mself\u001b[39;49m\u001b[38;5;241;43m.\u001b[39;49m\u001b[43mapply_standard\u001b[49m\u001b[43m(\u001b[49m\u001b[43m)\u001b[49m\n",
      "File \u001b[0;32m~/miniconda3/envs/rdkit_2022_12/lib/python3.8/site-packages/pandas/core/apply.py:1156\u001b[0m, in \u001b[0;36mSeriesApply.apply_standard\u001b[0;34m(self)\u001b[0m\n\u001b[1;32m   1154\u001b[0m     \u001b[38;5;28;01melse\u001b[39;00m:\n\u001b[1;32m   1155\u001b[0m         values \u001b[38;5;241m=\u001b[39m obj\u001b[38;5;241m.\u001b[39mastype(\u001b[38;5;28mobject\u001b[39m)\u001b[38;5;241m.\u001b[39m_values\n\u001b[0;32m-> 1156\u001b[0m         mapped \u001b[38;5;241m=\u001b[39m \u001b[43mlib\u001b[49m\u001b[38;5;241;43m.\u001b[39;49m\u001b[43mmap_infer\u001b[49m\u001b[43m(\u001b[49m\n\u001b[1;32m   1157\u001b[0m \u001b[43m            \u001b[49m\u001b[43mvalues\u001b[49m\u001b[43m,\u001b[49m\n\u001b[1;32m   1158\u001b[0m \u001b[43m            \u001b[49m\u001b[43mf\u001b[49m\u001b[43m,\u001b[49m\n\u001b[1;32m   1159\u001b[0m \u001b[43m            \u001b[49m\u001b[43mconvert\u001b[49m\u001b[38;5;241;43m=\u001b[39;49m\u001b[38;5;28;43mself\u001b[39;49m\u001b[38;5;241;43m.\u001b[39;49m\u001b[43mconvert_dtype\u001b[49m\u001b[43m,\u001b[49m\n\u001b[1;32m   1160\u001b[0m \u001b[43m        \u001b[49m\u001b[43m)\u001b[49m\n\u001b[1;32m   1162\u001b[0m \u001b[38;5;28;01mif\u001b[39;00m \u001b[38;5;28mlen\u001b[39m(mapped) \u001b[38;5;129;01mand\u001b[39;00m \u001b[38;5;28misinstance\u001b[39m(mapped[\u001b[38;5;241m0\u001b[39m], ABCSeries):\n\u001b[1;32m   1163\u001b[0m     \u001b[38;5;66;03m# GH#43986 Need to do list(mapped) in order to get treated as nested\u001b[39;00m\n\u001b[1;32m   1164\u001b[0m     \u001b[38;5;66;03m#  See also GH#25959 regarding EA support\u001b[39;00m\n\u001b[1;32m   1165\u001b[0m     \u001b[38;5;28;01mreturn\u001b[39;00m obj\u001b[38;5;241m.\u001b[39m_constructor_expanddim(\u001b[38;5;28mlist\u001b[39m(mapped), index\u001b[38;5;241m=\u001b[39mobj\u001b[38;5;241m.\u001b[39mindex)\n",
      "File \u001b[0;32m~/miniconda3/envs/rdkit_2022_12/lib/python3.8/site-packages/pandas/_libs/lib.pyx:2918\u001b[0m, in \u001b[0;36mpandas._libs.lib.map_infer\u001b[0;34m()\u001b[0m\n",
      "Cell \u001b[0;32mIn[36], line 2\u001b[0m, in \u001b[0;36mget_standard_smiles\u001b[0;34m(smiles)\u001b[0m\n\u001b[1;32m      1\u001b[0m \u001b[38;5;28;01mdef\u001b[39;00m \u001b[38;5;21mget_standard_smiles\u001b[39m(smiles):\n\u001b[0;32m----> 2\u001b[0m     \u001b[38;5;28;01mreturn\u001b[39;00m Chem\u001b[38;5;241m.\u001b[39mMolToSmiles(\u001b[43mstandardize\u001b[49m\u001b[43m(\u001b[49m\u001b[43msmiles\u001b[49m\u001b[43m)\u001b[49m)\n",
      "Cell \u001b[0;32mIn[218], line 8\u001b[0m, in \u001b[0;36mstandardize\u001b[0;34m(mol)\u001b[0m\n\u001b[1;32m      1\u001b[0m \u001b[38;5;28;01mdef\u001b[39;00m \u001b[38;5;21mstandardize\u001b[39m(mol):\n\u001b[1;32m      2\u001b[0m     \u001b[38;5;66;03m# follows the steps in\u001b[39;00m\n\u001b[1;32m      3\u001b[0m     \u001b[38;5;66;03m# https://github.com/greglandrum/RSC_OpenScience_Standardization_202104/blob/main/MolStandardize%20pieces.ipynb\u001b[39;00m\n\u001b[0;32m   (...)\u001b[0m\n\u001b[1;32m      6\u001b[0m      \n\u001b[1;32m      7\u001b[0m     \u001b[38;5;66;03m# removeHs, disconnect metal atoms, normalize the molecule, reionize the molecule\u001b[39;00m\n\u001b[0;32m----> 8\u001b[0m     clean_mol \u001b[38;5;241m=\u001b[39m \u001b[43mrdMolStandardize\u001b[49m\u001b[38;5;241;43m.\u001b[39;49m\u001b[43mCleanup\u001b[49m\u001b[43m(\u001b[49m\u001b[43mmol\u001b[49m\u001b[43m)\u001b[49m \n\u001b[1;32m     10\u001b[0m     \u001b[38;5;66;03m# if many fragments, get the \"parent\" (the actual mol we are interested in) \u001b[39;00m\n\u001b[1;32m     11\u001b[0m     parent_clean_mol \u001b[38;5;241m=\u001b[39m rdMolStandardize\u001b[38;5;241m.\u001b[39mFragmentParent(clean_mol)\n",
      "\u001b[0;31mArgumentError\u001b[0m: Python argument types in\n    rdkit.Chem.MolStandardize.rdMolStandardize.Cleanup(str)\ndid not match C++ signature:\n    Cleanup(RDKit::ROMol const* mol, boost::python::api::object params=None)"
     ]
    }
   ],
   "source": [
    "chembl_df = pd.read_csv(\"chembl_drugs_usan_v2.csv\")\n",
    "chembl_df_2018 = chembl_df.query(\"first_approval == 2018 and oral == 1\").copy()\n",
    "uru.rd_shut_the_hell_up()\n",
    "chembl_df_2018['standard_smiles'] = chembl_df_2018.canonical_smiles.apply(get_standard_smiles)\n",
    "chembl_df_2018['fp'] = chembl_df_2018.standard_smiles.apply(uru.smi2morgan_fp)"
   ]
  },
  {
   "cell_type": "code",
   "execution_count": 142,
   "id": "82f65ef8-6aba-493a-9c01-739529ff0661",
   "metadata": {},
   "outputs": [
    {
     "data": {
      "text/html": [
       "<div>\n",
       "<style scoped>\n",
       "    .dataframe tbody tr th:only-of-type {\n",
       "        vertical-align: middle;\n",
       "    }\n",
       "\n",
       "    .dataframe tbody tr th {\n",
       "        vertical-align: top;\n",
       "    }\n",
       "\n",
       "    .dataframe thead th {\n",
       "        text-align: right;\n",
       "    }\n",
       "</style>\n",
       "<table border=\"1\" class=\"dataframe\">\n",
       "  <thead>\n",
       "    <tr style=\"text-align: right;\">\n",
       "      <th></th>\n",
       "      <th>pref_name</th>\n",
       "      <th>chembl_id</th>\n",
       "      <th>first_approval</th>\n",
       "    </tr>\n",
       "  </thead>\n",
       "  <tbody>\n",
       "    <tr>\n",
       "      <th>0</th>\n",
       "      <td>SOTAGLIFLOZIN</td>\n",
       "      <td>CHEMBL3039507</td>\n",
       "      <td>None</td>\n",
       "    </tr>\n",
       "  </tbody>\n",
       "</table>\n",
       "</div>"
      ],
      "text/plain": [
       "       pref_name      chembl_id first_approval\n",
       "0  SOTAGLIFLOZIN  CHEMBL3039507           None"
      ]
     },
     "execution_count": 142,
     "metadata": {},
     "output_type": "execute_result"
    }
   ],
   "source": [
    "sql = \"select pref_name,chembl_id,first_approval from molecule_dictionary where pref_name = upper('Sotagliflozin')\"\n",
    "df = chembl_downloader.query(sql)\n",
    "df"
   ]
  },
  {
   "cell_type": "code",
   "execution_count": 140,
   "id": "6a74c45f-fa9e-4586-8714-545d57c2b21c",
   "metadata": {},
   "outputs": [
    {
     "data": {
      "text/plain": [
       "[(1592325,\n",
       "  'SOTAGLIFLOZIN',\n",
       "  'CHEMBL3039507',\n",
       "  4,\n",
       "  1,\n",
       "  0,\n",
       "  'MOL',\n",
       "  None,\n",
       "  'Small molecule',\n",
       "  None,\n",
       "  0,\n",
       "  0,\n",
       "  0,\n",
       "  0,\n",
       "  1,\n",
       "  0,\n",
       "  1,\n",
       "  0,\n",
       "  0,\n",
       "  2013,\n",
       "  -1,\n",
       "  '-gliflozin',\n",
       "  0,\n",
       "  '-gliflozin',\n",
       "  'phlorozin derivatives, phenolic glycosides',\n",
       "  None,\n",
       "  0,\n",
       "  None,\n",
       "  None,\n",
       "  None,\n",
       "  None)]"
      ]
     },
     "execution_count": 140,
     "metadata": {},
     "output_type": "execute_result"
    }
   ],
   "source": [
    "with chembl_downloader.cursor() as cursor:\n",
    "    query = \"select * from molecule_dictionary where pref_name = upper('Sotagliflozin')\"\n",
    "    cursor.execute(query)  \n",
    "    rows = cursor.fetchall() \n",
    "rows"
   ]
  },
  {
   "cell_type": "code",
   "execution_count": 38,
   "id": "415acb88-5cf2-47f2-8648-3695665fccd6",
   "metadata": {},
   "outputs": [
    {
     "data": {
      "text/html": [
       "<div>\n",
       "<style scoped>\n",
       "    .dataframe tbody tr th:only-of-type {\n",
       "        vertical-align: middle;\n",
       "    }\n",
       "\n",
       "    .dataframe tbody tr th {\n",
       "        vertical-align: top;\n",
       "    }\n",
       "\n",
       "    .dataframe thead th {\n",
       "        text-align: right;\n",
       "    }\n",
       "</style>\n",
       "<table border=\"1\" class=\"dataframe\">\n",
       "  <thead>\n",
       "    <tr style=\"text-align: right;\">\n",
       "      <th></th>\n",
       "      <th>canonical_smiles</th>\n",
       "      <th>molregno</th>\n",
       "      <th>pref_name</th>\n",
       "      <th>chembl_id</th>\n",
       "      <th>max_phase</th>\n",
       "      <th>therapeutic_flag</th>\n",
       "      <th>dosed_ingredient</th>\n",
       "      <th>structure_type</th>\n",
       "      <th>chebi_par_id</th>\n",
       "      <th>molecule_type</th>\n",
       "      <th>...</th>\n",
       "      <th>usan_stem</th>\n",
       "      <th>polymer_flag</th>\n",
       "      <th>usan_substem</th>\n",
       "      <th>usan_stem_definition</th>\n",
       "      <th>indication_class</th>\n",
       "      <th>withdrawn_flag</th>\n",
       "      <th>withdrawn_year</th>\n",
       "      <th>withdrawn_country</th>\n",
       "      <th>withdrawn_reason</th>\n",
       "      <th>withdrawn_class</th>\n",
       "    </tr>\n",
       "  </thead>\n",
       "  <tbody>\n",
       "    <tr>\n",
       "      <th>235</th>\n",
       "      <td>CC(Oc1c(Cl)cccc1Cl)C1=NCCN1</td>\n",
       "      <td>20130</td>\n",
       "      <td>LOFEXIDINE</td>\n",
       "      <td>CHEMBL17860</td>\n",
       "      <td>4</td>\n",
       "      <td>1</td>\n",
       "      <td>0</td>\n",
       "      <td>MOL</td>\n",
       "      <td>51368.0</td>\n",
       "      <td>Small molecule</td>\n",
       "      <td>...</td>\n",
       "      <td>NaN</td>\n",
       "      <td>0</td>\n",
       "      <td>NaN</td>\n",
       "      <td>NaN</td>\n",
       "      <td>Antihypertensive</td>\n",
       "      <td>0</td>\n",
       "      <td>NaN</td>\n",
       "      <td>NaN</td>\n",
       "      <td>NaN</td>\n",
       "      <td>NaN</td>\n",
       "    </tr>\n",
       "  </tbody>\n",
       "</table>\n",
       "<p>1 rows × 32 columns</p>\n",
       "</div>"
      ],
      "text/plain": [
       "                canonical_smiles  molregno   pref_name    chembl_id  \\\n",
       "235  CC(Oc1c(Cl)cccc1Cl)C1=NCCN1     20130  LOFEXIDINE  CHEMBL17860   \n",
       "\n",
       "     max_phase  therapeutic_flag  dosed_ingredient structure_type  \\\n",
       "235          4                 1                 0            MOL   \n",
       "\n",
       "     chebi_par_id   molecule_type  ...  usan_stem  polymer_flag  usan_substem  \\\n",
       "235       51368.0  Small molecule  ...        NaN             0           NaN   \n",
       "\n",
       "     usan_stem_definition  indication_class  withdrawn_flag  withdrawn_year  \\\n",
       "235                   NaN  Antihypertensive               0             NaN   \n",
       "\n",
       "     withdrawn_country  withdrawn_reason  withdrawn_class  \n",
       "235                NaN               NaN              NaN  \n",
       "\n",
       "[1 rows x 32 columns]"
      ]
     },
     "execution_count": 38,
     "metadata": {},
     "output_type": "execute_result"
    }
   ],
   "source": [
    "chembl_df.query(\"chembl_id == 'CHEMBL17860'\")"
   ]
  },
  {
   "cell_type": "code",
   "execution_count": 39,
   "id": "094f7d40-d758-4c0b-b7ad-dd8d732a98b6",
   "metadata": {},
   "outputs": [],
   "source": [
    "paper_df = pd.read_csv(\"41570_2022_451_MOESM2_ESM.csv\")\n",
    "paper_df_2018 = paper_df.query(\"APPROVAL_YEAR == 2018\").copy()\n",
    "paper_df_2018['standard_smiles'] = paper_df_2018.SMILES.apply(get_standard_smiles)\n",
    "paper_df_2018['fp'] = paper_df_2018.standard_smiles.apply(uru.smi2morgan_fp)"
   ]
  },
  {
   "cell_type": "code",
   "execution_count": 43,
   "id": "d2975438-f8df-4bf6-9cb1-b184b8ae5695",
   "metadata": {},
   "outputs": [
    {
     "name": "stdout",
     "output_type": "stream",
     "text": [
      "O=C(Cn1ccnc1[N+](=O)[O-])NCc1ccccc1 Benznidazole 0.1686746987951807\n"
     ]
    }
   ],
   "source": [
    "for fp, smiles, name in paper_df_2018[['fp','SMILES','NAME']].values:\n",
    "    sim_vals = DataStructs.BulkTanimotoSimilarity(fp,chembl_df_2018.fp.values)\n",
    "    max_sim = max(sim_vals)\n",
    "    if max_sim < 1.0:\n",
    "        print(smiles, name, max_sim)"
   ]
  },
  {
   "cell_type": "code",
   "execution_count": null,
   "id": "78643f77-2f0e-4dad-bc72-a5c1b0e8b92f",
   "metadata": {},
   "outputs": [],
   "source": [
    "used = set()\n",
    "for fp, smiles, name in chembl_df_2018[['fp','standard_smiles','pref_name']].values:\n",
    "    sim_vals = DataStructs.BulkTanimotoSimilarity(fp,paper_df_2018.fp.values)\n",
    "    max_sim = max(sim_vals)\n",
    "    if max_sim < 1.0 and smiles not in used:\n",
    "        used.add(smiles)\n",
    "        print(smiles, name, max_sim)"
   ]
  },
  {
   "cell_type": "code",
   "execution_count": 358,
   "id": "61bb7288-64e3-4f5c-b665-a2b7d1c10972",
   "metadata": {},
   "outputs": [
    {
     "name": "stdout",
     "output_type": "stream",
     "text": [
      "/Users/pwalters/DATA/DRUGS/2023_01_05\n"
     ]
    }
   ],
   "source": [
    "!pwd"
   ]
  },
  {
   "cell_type": "code",
   "execution_count": null,
   "id": "817a4acf-3a03-4a8f-9de0-af853de5d360",
   "metadata": {},
   "outputs": [],
   "source": []
  }
 ],
 "metadata": {
  "kernelspec": {
   "display_name": "Python 3 (ipykernel)",
   "language": "python",
   "name": "python3"
  },
  "language_info": {
   "codemirror_mode": {
    "name": "ipython",
    "version": 3
   },
   "file_extension": ".py",
   "mimetype": "text/x-python",
   "name": "python",
   "nbconvert_exporter": "python",
   "pygments_lexer": "ipython3",
   "version": "3.8.15"
  }
 },
 "nbformat": 4,
 "nbformat_minor": 5
}
